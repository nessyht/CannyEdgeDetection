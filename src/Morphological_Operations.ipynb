{
 "cells": [
  {
   "cell_type": "code",
   "execution_count": 14,
   "metadata": {},
   "outputs": [],
   "source": [
    "import numpy as np"
   ]
  },
  {
   "cell_type": "code",
   "execution_count": 16,
   "metadata": {},
   "outputs": [],
   "source": [
    "def erosion(im):\n",
    "    eroded = np.zeros(im.shape)\n",
    "    \n",
    "    for i in range(1, im.shape[0]-1):\n",
    "        for j in range(1, im.shape[1]-1):\n",
    "            print(im[i-1:i+2, j-1:j+2] != 0)\n",
    "            eroded[i, j] = np.all(im[i-1:i+2, j-1:j+2] != 0)\n",
    "    return eroded"
   ]
  },
  {
   "cell_type": "code",
   "execution_count": 11,
   "metadata": {},
   "outputs": [],
   "source": [
    "def dilation(im):\n",
    "    dilated = np.zeros(im.shape)\n",
    "    \n",
    "    for i in range(1, im.shape[0]-1):\n",
    "        for j in range(1, im.shape[1]-1):\n",
    "            dilated[i-1:i+2, j-1:j+2] = np.where(im[i,j] != 0, 1, dilated[i-1:i+2, j-1:j+2])\n",
    "    return dilated"
   ]
  },
  {
   "cell_type": "code",
   "execution_count": 12,
   "metadata": {},
   "outputs": [],
   "source": [
    "def opening(im):\n",
    "    return dilation(erosion(im))"
   ]
  },
  {
   "cell_type": "code",
   "execution_count": 13,
   "metadata": {},
   "outputs": [],
   "source": [
    "def closing(im):\n",
    "    return erosion(dilation(im))"
   ]
  }
 ],
 "metadata": {
  "kernelspec": {
   "display_name": "Python 3",
   "language": "python",
   "name": "python3"
  },
  "language_info": {
   "codemirror_mode": {
    "name": "ipython",
    "version": 3
   },
   "file_extension": ".py",
   "mimetype": "text/x-python",
   "name": "python",
   "nbconvert_exporter": "python",
   "pygments_lexer": "ipython3",
   "version": "3.7.0"
  }
 },
 "nbformat": 4,
 "nbformat_minor": 2
}
