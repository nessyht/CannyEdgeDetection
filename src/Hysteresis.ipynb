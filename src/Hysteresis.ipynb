{
 "cells": [
  {
   "cell_type": "code",
   "execution_count": null,
   "metadata": {},
   "outputs": [],
   "source": [
    "from PIL import Image\n",
    "import numpy as np\n",
    "import matplotlib.pyplot as plt\n",
    "import nbimporter\n",
    "from src import intensity_gradient"
   ]
  },
  {
   "cell_type": "code",
   "execution_count": null,
   "metadata": {},
   "outputs": [],
   "source": [
    "def hysteresis(im, ker):\n",
    "    hyst = np.copy(im)\n",
    "    \n",
    "    dims = np.ones((2))\n",
    "    for n, m in enumerate(ker.shape):\n",
    "        dims[n] = m\n",
    "        \n",
    "    #print(dims)\n",
    "    kx, ky = dims.astype(int)\n",
    "    \n",
    "    #print(kx, ky)\n",
    "    kx_2 = int(kx/2)\n",
    "    ky_2 = int(ky/2)\n",
    "    \n",
    "    #print(kx, ky, kx_2, \"ky_2:\",ky_2)\n",
    "    \n",
    "    for i in range(1, im.shape[0]-1):\n",
    "        for j in range(1, im.shape[1]-1):\n",
    "            if im[i, j] ==1:\n",
    "                #print((im[i-kx_2:i-kx_2+kx, j-ky_2: j-ky_2 + ky]), i-kx_2, i-kx_2+kx, j-ky_2,  j-ky_2 + ky)\n",
    "                hyst[i, j] = np.any(im[i-1:i+2, j-1:j+2] == 2)*2\n",
    "    return hyst"
   ]
  },
  {
   "cell_type": "code",
   "execution_count": null,
   "metadata": {},
   "outputs": [],
   "source": [
    "def double_threshold(im, t_l, t_h):\n",
    "    return np.where(im < t_l, 0, np.where(im > t_h, 2, 1))"
   ]
  },
  {
   "cell_type": "code",
   "execution_count": null,
   "metadata": {},
   "outputs": [],
   "source": [
    "lena_colour = np.array(Image.open('lena_color.tiff'))\n",
    "lena_blurred = np.array(Image.open('blurred_lena.png'))\n",
    "lena_gauss_max = np.array(Image.open('gauss-non-maximum_supression_lena.tiff'))[:,:,0]"
   ]
  },
  {
   "cell_type": "code",
   "execution_count": null,
   "metadata": {},
   "outputs": [],
   "source": [
    "plt.imshow(lena_colour)"
   ]
  },
  {
   "cell_type": "code",
   "execution_count": null,
   "metadata": {},
   "outputs": [],
   "source": [
    "plt.imshow(lena_blurred)"
   ]
  },
  {
   "cell_type": "code",
   "execution_count": null,
   "metadata": {},
   "outputs": [],
   "source": [
    "plt.gray()\n",
    "plt.imshow(lena_gauss_max)"
   ]
  },
  {
   "cell_type": "code",
   "execution_count": null,
   "metadata": {},
   "outputs": [],
   "source": [
    "lena_dt = double_threshold(lena_gauss_max, 50,150)"
   ]
  },
  {
   "cell_type": "code",
   "execution_count": null,
   "metadata": {},
   "outputs": [],
   "source": [
    "plt.imshow(lena_dt)\n",
    "plt.imsave(\"double_threshold.png\", lena_dt)"
   ]
  },
  {
   "cell_type": "code",
   "execution_count": null,
   "metadata": {},
   "outputs": [],
   "source": [
    "kernel = np.array([-1, 0, 1])\n",
    "lena_hyst = hysteresis(lena_dt, kernel)"
   ]
  },
  {
   "cell_type": "code",
   "execution_count": null,
   "metadata": {},
   "outputs": [],
   "source": [
    "plt.gray()\n",
    "plt.imshow(lena_hyst)\n",
    "plt.imsave(\"lena_hystersis_10-50.png\", lena_hyst)"
   ]
  }
 ],
 "metadata": {
  "kernelspec": {
   "display_name": "Python 3",
   "language": "python",
   "name": "python3"
  },
  "language_info": {
   "codemirror_mode": {
    "name": "ipython",
    "version": 3
   },
   "file_extension": ".py",
   "mimetype": "text/x-python",
   "name": "python",
   "nbconvert_exporter": "python",
   "pygments_lexer": "ipython3",
   "version": "3.7.0"
  }
 },
 "nbformat": 4,
 "nbformat_minor": 2
}
